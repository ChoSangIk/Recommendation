{
 "cells": [
  {
   "cell_type": "code",
   "execution_count": 2,
   "metadata": {
    "scrolled": false
   },
   "outputs": [],
   "source": [
    "from example import ex_matrix\n",
    "from example import ex_TFIDF\n",
    "import math"
   ]
  },
  {
   "cell_type": "code",
   "execution_count": 3,
   "metadata": {},
   "outputs": [],
   "source": [
    "matrix = ex_matrix.matrix"
   ]
  },
  {
   "cell_type": "code",
   "execution_count": 4,
   "metadata": {},
   "outputs": [
    {
     "data": {
      "text/plain": [
       "array([[ 0.  ,  0.3 ,  0.  ,  0.  ,  0.  ,  0.  ,  0.  ,  0.  ],\n",
       "       [ 0.7 ,  0.  ,  0.7 ,  0.  ,  0.  ,  0.  ,  0.  ,  0.7 ],\n",
       "       [ 0.  ,  0.3 ,  0.  ,  0.  ,  0.3 ,  0.  ,  0.  ,  0.  ],\n",
       "       [ 0.7 ,  0.  ,  0.  ,  0.  ,  0.  ,  0.  ,  0.  ,  0.  ],\n",
       "       [ 0.  ,  0.  ,  0.  ,  0.3 ,  0.  ,  0.  ,  0.  ,  0.  ],\n",
       "       [ 0.  ,  0.  ,  0.  ,  0.3 ,  0.3 ,  0.  ,  0.  ,  0.  ],\n",
       "       [ 0.  ,  0.3 ,  0.  ,  0.  ,  0.  ,  0.  ,  0.  ,  0.  ],\n",
       "       [ 0.  ,  0.  ,  0.  ,  0.3 ,  0.3 ,  0.  ,  0.  ,  0.  ],\n",
       "       [ 0.  ,  0.  ,  0.  ,  0.  ,  0.  ,  1.04,  1.04,  0.7 ],\n",
       "       [ 0.  ,  0.  ,  0.7 ,  0.3 ,  0.  ,  0.  ,  0.  ,  0.  ],\n",
       "       [ 0.  ,  0.3 ,  0.  ,  0.3 ,  0.3 ,  0.  ,  0.  ,  0.  ]])"
      ]
     },
     "execution_count": 4,
     "metadata": {},
     "output_type": "execute_result"
    }
   ],
   "source": [
    "ex_TFIDF.weight(matrix)"
   ]
  },
  {
   "cell_type": "code",
   "execution_count": 5,
   "metadata": {},
   "outputs": [],
   "source": [
    "weights = ex_TFIDF.weight(matrix)"
   ]
  },
  {
   "cell_type": "markdown",
   "metadata": {},
   "source": [
    "#### 1. norm을 구해본다."
   ]
  },
  {
   "cell_type": "code",
   "execution_count": 6,
   "metadata": {},
   "outputs": [],
   "source": [
    "def norm2(arr):\n",
    "    sum = 0.0\n",
    "    for i in range(0, len(arr)):\n",
    "        sum += arr[i] * arr[i]\n",
    "    return math.sqrt(sum)"
   ]
  },
  {
   "cell_type": "code",
   "execution_count": 7,
   "metadata": {},
   "outputs": [
    {
     "name": "stdout",
     "output_type": "stream",
     "text": [
      "(array([ 0. ,  0.3,  0. ,  0. ,  0. ,  0. ,  0. ,  0. ]), '=>', 0.3010299956639812)\n",
      "(array([ 0.7,  0. ,  0.7,  0. ,  0. ,  0. ,  0. ,  0.7]), '=>', 1.2106515604766233)\n",
      "(array([ 0. ,  0.3,  0. ,  0. ,  0.3,  0. ,  0. ,  0. ]), '=>', 0.4257207025491162)\n",
      "(array([ 0.7,  0. ,  0. ,  0. ,  0. ,  0. ,  0. ,  0. ]), '=>', 0.6989700043360189)\n"
     ]
    }
   ],
   "source": [
    "print(weights[0],\"=>\",norm2(weights[0]))\n",
    "print(weights[1],\"=>\",norm2(weights[1]))\n",
    "print(weights[2],\"=>\",norm2(weights[2]))\n",
    "print(weights[3],\"=>\",norm2(weights[3]))"
   ]
  },
  {
   "cell_type": "markdown",
   "metadata": {},
   "source": [
    "#### 2. Inner Product를 해본다."
   ]
  },
  {
   "cell_type": "code",
   "execution_count": 8,
   "metadata": {},
   "outputs": [],
   "source": [
    "def dot(arr1, arr2):\n",
    "    sum = 0.0\n",
    "    for i in range(0, len(arr1)):\n",
    "        sum += arr1[i] * arr2[i]\n",
    "    return sum"
   ]
  },
  {
   "cell_type": "code",
   "execution_count": 9,
   "metadata": {},
   "outputs": [
    {
     "name": "stdout",
     "output_type": "stream",
     "text": [
      "0.0\n",
      "0.0906190582895\n",
      "0.0906190582895\n",
      "0.488559066961\n"
     ]
    }
   ],
   "source": [
    "print(dot(weights[0], weights[1]))\n",
    "print(dot(weights[0], weights[0]))\n",
    "print(dot(weights[0], weights[2]))\n",
    "print(dot(weights[1], weights[3]))"
   ]
  },
  {
   "cell_type": "markdown",
   "metadata": {},
   "source": [
    "#### 3.Cosine Similarity를 구해본다."
   ]
  },
  {
   "cell_type": "code",
   "execution_count": 10,
   "metadata": {
    "collapsed": true
   },
   "outputs": [],
   "source": [
    "def cosine(arr1,arr2):\n",
    "    return dot(arr1,arr2)/(norm2(arr1)*norm2(arr2))\n"
   ]
  },
  {
   "cell_type": "code",
   "execution_count": 11,
   "metadata": {},
   "outputs": [
    {
     "name": "stdout",
     "output_type": "stream",
     "text": [
      "0.0\n",
      "1.0\n",
      "0.707106781187\n",
      "0.57735026919\n"
     ]
    }
   ],
   "source": [
    "print(cosine(weights[0], weights[1]))\n",
    "print(cosine(weights[0], weights[0]))\n",
    "print(cosine(weights[0], weights[2]))\n",
    "print(cosine(weights[1], weights[3]))"
   ]
  },
  {
   "cell_type": "markdown",
   "metadata": {},
   "source": [
    "### 라이브러리 Numpy를 이용해 쉽게사용해보자.\n",
    "* numpy에서 axis 는 차원을 말한다.  행렬에선 행이냐 열이냐를 묻는다랑 동일하다\n",
    "* 참고 doc => https://docs.scipy.org/doc/numpy-1.13.0/reference/generated/numpy.linalg.norm.html"
   ]
  },
  {
   "cell_type": "code",
   "execution_count": 12,
   "metadata": {
    "collapsed": true
   },
   "outputs": [],
   "source": [
    "from numpy import linalg as LA\n",
    "import numpy as np"
   ]
  },
  {
   "cell_type": "markdown",
   "metadata": {},
   "source": [
    "#### norm을 구해준다."
   ]
  },
  {
   "cell_type": "code",
   "execution_count": 13,
   "metadata": {},
   "outputs": [
    {
     "data": {
      "text/plain": [
       "array([ 0.3 ,  1.21,  0.43,  0.7 ,  0.3 ,  0.43,  0.3 ,  0.43,  1.63,  0.76,  0.52])"
      ]
     },
     "execution_count": 13,
     "metadata": {},
     "output_type": "execute_result"
    }
   ],
   "source": [
    "norms = LA.norm(weights,ord=2,axis=1) \n",
    "norms"
   ]
  },
  {
   "cell_type": "code",
   "execution_count": 16,
   "metadata": {},
   "outputs": [
    {
     "name": "stdout",
     "output_type": "stream",
     "text": [
      "11\n"
     ]
    }
   ],
   "source": [
    "print len(norms) #norm의 길이가 11"
   ]
  },
  {
   "cell_type": "markdown",
   "metadata": {},
   "source": [
    "#### 내적한다. inner product\n",
    "* 같은값은 역을 multiplelicative해주면 inner product이다. ( 용어가 확실한지모르겠음 두 백터 곱해주는 함수임)"
   ]
  },
  {
   "cell_type": "code",
   "execution_count": 14,
   "metadata": {
    "scrolled": false
   },
   "outputs": [
    {
     "data": {
      "text/plain": [
       "array([[ 0.09,  0.  ,  0.09,  0.  ,  0.  ,  0.  ,  0.09,  0.  ,  0.  ,  0.  ,  0.09],\n",
       "       [ 0.  ,  1.47,  0.  ,  0.49,  0.  ,  0.  ,  0.  ,  0.  ,  0.49,  0.49,  0.  ],\n",
       "       [ 0.09,  0.  ,  0.18,  0.  ,  0.  ,  0.09,  0.09,  0.09,  0.  ,  0.  ,  0.18],\n",
       "       [ 0.  ,  0.49,  0.  ,  0.49,  0.  ,  0.  ,  0.  ,  0.  ,  0.  ,  0.  ,  0.  ],\n",
       "       [ 0.  ,  0.  ,  0.  ,  0.  ,  0.09,  0.09,  0.  ,  0.09,  0.  ,  0.09,  0.09],\n",
       "       [ 0.  ,  0.  ,  0.09,  0.  ,  0.09,  0.18,  0.  ,  0.18,  0.  ,  0.09,  0.18],\n",
       "       [ 0.09,  0.  ,  0.09,  0.  ,  0.  ,  0.  ,  0.09,  0.  ,  0.  ,  0.  ,  0.09],\n",
       "       [ 0.  ,  0.  ,  0.09,  0.  ,  0.09,  0.18,  0.  ,  0.18,  0.  ,  0.09,  0.18],\n",
       "       [ 0.  ,  0.49,  0.  ,  0.  ,  0.  ,  0.  ,  0.  ,  0.  ,  2.66,  0.  ,  0.  ],\n",
       "       [ 0.  ,  0.49,  0.  ,  0.  ,  0.09,  0.09,  0.  ,  0.09,  0.  ,  0.58,  0.09],\n",
       "       [ 0.09,  0.  ,  0.18,  0.  ,  0.09,  0.18,  0.09,  0.18,  0.  ,  0.09,  0.27]])"
      ]
     },
     "execution_count": 14,
     "metadata": {},
     "output_type": "execute_result"
    }
   ],
   "source": [
    "dots = np.matmul(weights, weights.T)\n",
    "dots_test = np.matmul(weights.T, weights)\n",
    "dots"
   ]
  },
  {
   "cell_type": "code",
   "execution_count": 20,
   "metadata": {},
   "outputs": [
    {
     "name": "stdout",
     "output_type": "stream",
     "text": [
      "8 11\n"
     ]
    }
   ],
   "source": [
    "print len(np.matmul(weights.T, weights)), len(np.matmul(weights, weights.T)) #하지만 정석대로 내적을 하면 길이가 8이므로 일단 외적을 함."
   ]
  },
  {
   "cell_type": "code",
   "execution_count": 19,
   "metadata": {},
   "outputs": [
    {
     "name": "stdout",
     "output_type": "stream",
     "text": [
      "11 11\n"
     ]
    }
   ],
   "source": [
    "print len(dots), len(dots[0]) #weight를 외적한 결과의 길이는 11"
   ]
  },
  {
   "cell_type": "markdown",
   "metadata": {},
   "source": [
    "#### cosine similarity를 구해준다.\n",
    "* 바로 아래있는건 잘못된것임. 한칸더 아래있는게 맞는거임 왜 다른 값이 나오는지 모르겠음...\n",
    "* 근데.T를 왜붙이는지 모르겠음 => 아마도 식맞춰주기위에 큰 부분에 T를 붙이는거같은데 정확한이유 모르겠음."
   ]
  },
  {
   "cell_type": "code",
   "execution_count": 23,
   "metadata": {
    "scrolled": true
   },
   "outputs": [
    {
     "ename": "ValueError",
     "evalue": "operands could not be broadcast together with shapes (8,8) (11,) ",
     "output_type": "error",
     "traceback": [
      "\u001b[0;31m---------------------------------------------------------------------------\u001b[0m",
      "\u001b[0;31mValueError\u001b[0m                                Traceback (most recent call last)",
      "\u001b[0;32m<ipython-input-23-f79de93f509f>\u001b[0m in \u001b[0;36m<module>\u001b[0;34m()\u001b[0m\n\u001b[0;32m----> 1\u001b[0;31m \u001b[0mnp\u001b[0m\u001b[0;34m.\u001b[0m\u001b[0mdivide\u001b[0m\u001b[0;34m(\u001b[0m\u001b[0mdots\u001b[0m\u001b[0;34m,\u001b[0m\u001b[0mnorms\u001b[0m\u001b[0;34m)\u001b[0m\u001b[0;34m*\u001b[0m\u001b[0mnorms\u001b[0m\u001b[0;34m\u001b[0m\u001b[0m\n\u001b[0m",
      "\u001b[0;31mValueError\u001b[0m: operands could not be broadcast together with shapes (8,8) (11,) "
     ]
    }
   ],
   "source": [
    "np.divide(dots,norms)*norms"
   ]
  },
  {
   "cell_type": "code",
   "execution_count": 21,
   "metadata": {},
   "outputs": [
    {
     "name": "stdout",
     "output_type": "stream",
     "text": [
      "11 11\n"
     ]
    }
   ],
   "source": [
    "print len(np.divide(dots, norms)), len(np.divide(dots, norms).T) #우리가 원했던 건 내적이었으므로 현재에서 Transpose 연산으로 우리가\n",
    "                                                                 #원하는 결과로 만들어줌."
   ]
  },
  {
   "cell_type": "code",
   "execution_count": 27,
   "metadata": {
    "scrolled": false
   },
   "outputs": [
    {
     "data": {
      "text/plain": [
       "array([[ 1.  ,  0.  ,  0.71,  0.  ,  0.  ,  0.  ,  1.  ,  0.  ,  0.  ,  0.  ,  0.62],\n",
       "       [ 0.  ,  1.  ,  0.  ,  0.58,  0.  ,  0.  ,  0.  ,  0.  ,  0.26,  0.52,  0.  ],\n",
       "       [ 0.71,  0.  ,  1.  ,  0.  ,  0.  ,  0.56,  0.71,  0.56,  0.  ,  0.  ,  0.88],\n",
       "       [ 0.  ,  0.58,  0.  ,  1.  ,  0.  ,  0.  ,  0.  ,  0.  ,  0.  ,  0.  ,  0.  ],\n",
       "       [ 0.  ,  0.  ,  0.  ,  0.  ,  1.  ,  0.61,  0.  ,  0.61,  0.  ,  0.42,  0.48],\n",
       "       [ 0.  ,  0.  ,  0.56,  0.  ,  0.61,  1.  ,  0.  ,  1.  ,  0.  ,  0.26,  0.79],\n",
       "       [ 1.  ,  0.  ,  0.71,  0.  ,  0.  ,  0.  ,  1.  ,  0.  ,  0.  ,  0.  ,  0.62],\n",
       "       [ 0.  ,  0.  ,  0.56,  0.  ,  0.61,  1.  ,  0.  ,  1.  ,  0.  ,  0.26,  0.79],\n",
       "       [ 0.  ,  0.26,  0.  ,  0.  ,  0.  ,  0.  ,  0.  ,  0.  ,  1.  ,  0.  ,  0.  ],\n",
       "       [ 0.  ,  0.52,  0.  ,  0.  ,  0.42,  0.26,  0.  ,  0.26,  0.  ,  1.  ,  0.2 ],\n",
       "       [ 0.62,  0.  ,  0.88,  0.  ,  0.48,  0.79,  0.62,  0.79,  0.  ,  0.2 ,  1.  ]])"
      ]
     },
     "execution_count": 27,
     "metadata": {},
     "output_type": "execute_result"
    }
   ],
   "source": [
    "sims = np.divide(np.divide(dots, norms).T, norms)\n",
    "sims"
   ]
  },
  {
   "cell_type": "markdown",
   "metadata": {},
   "source": [
    "### 예제파일로 만들어준다."
   ]
  },
  {
   "cell_type": "code",
   "execution_count": 76,
   "metadata": {},
   "outputs": [
    {
     "name": "stdout",
     "output_type": "stream",
     "text": [
      "Writing example/ex_CosineSimilarity.py\n"
     ]
    }
   ],
   "source": [
    "%%writefile example/ex_CosineSimilarity.py\n",
    "\n",
    "from numpy import linalg as LA\n",
    "import numpy as np\n",
    "norms = LA.norm(weights,ord=2,axis=1) \n",
    "dots = np.matmul(weights, weights.T)\n",
    "sims = np.divide(np.divide(dots, norms).T, norms)\n",
    "return sims"
   ]
  },
  {
   "cell_type": "code",
   "execution_count": null,
   "metadata": {
    "collapsed": true
   },
   "outputs": [],
   "source": []
  }
 ],
 "metadata": {
  "kernelspec": {
   "display_name": "Python 2",
   "language": "python",
   "name": "python2"
  },
  "language_info": {
   "codemirror_mode": {
    "name": "ipython",
    "version": 2
   },
   "file_extension": ".py",
   "mimetype": "text/x-python",
   "name": "python",
   "nbconvert_exporter": "python",
   "pygments_lexer": "ipython2",
   "version": "2.7.13"
  }
 },
 "nbformat": 4,
 "nbformat_minor": 2
}
