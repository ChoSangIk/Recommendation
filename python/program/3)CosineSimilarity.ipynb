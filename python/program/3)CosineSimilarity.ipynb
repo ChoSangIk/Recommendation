{
 "cells": [
  {
   "cell_type": "code",
   "execution_count": 108,
   "metadata": {
    "collapsed": false,
    "deletable": true,
    "editable": true,
    "scrolled": false
   },
   "outputs": [],
   "source": [
    "from example import ex_matrix\n",
    "from example import ex_TFIDF\n",
    "import math"
   ]
  },
  {
   "cell_type": "code",
   "execution_count": 109,
   "metadata": {
    "collapsed": false,
    "deletable": true,
    "editable": true
   },
   "outputs": [],
   "source": [
    "matrix = ex_matrix.matrix"
   ]
  },
  {
   "cell_type": "code",
   "execution_count": 110,
   "metadata": {
    "collapsed": false,
    "deletable": true,
    "editable": true
   },
   "outputs": [
    {
     "data": {
      "text/plain": [
       "array([[ 0.  ,  0.44,  0.  ,  0.  ,  0.  ,  0.  ,  0.  ,  0.  ],\n",
       "       [ 0.74,  0.  ,  0.74,  0.  ,  0.  ,  0.  ,  0.  ,  0.74],\n",
       "       [ 0.  ,  0.44,  0.  ,  0.  ,  0.44,  0.  ,  0.  ,  0.  ],\n",
       "       [ 0.74,  0.  ,  0.  ,  0.  ,  0.  ,  0.  ,  0.  ,  0.  ],\n",
       "       [ 0.  ,  0.  ,  0.  ,  0.34,  0.  ,  0.  ,  0.  ,  0.  ],\n",
       "       [ 0.  ,  0.  ,  0.  ,  0.34,  0.44,  0.  ,  0.  ,  0.  ],\n",
       "       [ 0.  ,  0.44,  0.  ,  0.  ,  0.  ,  0.  ,  0.  ,  0.  ],\n",
       "       [ 0.  ,  0.  ,  0.  ,  0.34,  0.44,  0.  ,  0.  ,  0.  ],\n",
       "       [ 0.  ,  0.  ,  0.  ,  0.  ,  0.  ,  1.04,  1.04,  0.74],\n",
       "       [ 0.  ,  0.  ,  0.74,  0.34,  0.  ,  0.  ,  0.  ,  0.  ],\n",
       "       [ 0.  ,  0.44,  0.  ,  0.34,  0.44,  0.  ,  0.  ,  0.  ]])"
      ]
     },
     "execution_count": 110,
     "metadata": {},
     "output_type": "execute_result"
    }
   ],
   "source": [
    "ex_TFIDF.weight(matrix)"
   ]
  },
  {
   "cell_type": "code",
   "execution_count": 111,
   "metadata": {
    "collapsed": false,
    "deletable": true,
    "editable": true
   },
   "outputs": [],
   "source": [
    "weights = ex_TFIDF.weight(matrix)"
   ]
  },
  {
   "cell_type": "markdown",
   "metadata": {
    "deletable": true,
    "editable": true
   },
   "source": [
    "#### 1. norm을 구해본다."
   ]
  },
  {
   "cell_type": "code",
   "execution_count": 112,
   "metadata": {
    "collapsed": false,
    "deletable": true,
    "editable": true
   },
   "outputs": [],
   "source": [
    "def norm2(arr):\n",
    "    sum = 0.0\n",
    "    for i in range(0, len(arr)):\n",
    "        sum += arr[i] * arr[i]\n",
    "    return math.sqrt(sum)"
   ]
  },
  {
   "cell_type": "code",
   "execution_count": 116,
   "metadata": {
    "collapsed": false,
    "deletable": true,
    "editable": true
   },
   "outputs": [
    {
     "name": "stdout",
     "output_type": "stream",
     "text": [
      "[ 0.    0.44  0.    0.    0.    0.    0.    0.  ] => 0.43933269383026263\n",
      "[ 0.74  0.    0.74  0.    0.    0.    0.    0.74] => 1.282345794232371\n",
      "[ 0.    0.44  0.    0.    0.44  0.    0.    0.  ] => 0.621310254008664\n",
      "[ 0.74  0.    0.    0.    0.    0.    0.    0.  ] => 0.7403626894942439\n"
     ]
    }
   ],
   "source": [
    "print(weights[0],\"=>\",norm2(weights[0]))\n",
    "print(weights[1],\"=>\",norm2(weights[1]))\n",
    "print(weights[2],\"=>\",norm2(weights[2]))\n",
    "print(weights[3],\"=>\",norm2(weights[3]))"
   ]
  },
  {
   "cell_type": "markdown",
   "metadata": {
    "deletable": true,
    "editable": true
   },
   "source": [
    "#### 2. Inner Product를 해본다."
   ]
  },
  {
   "cell_type": "code",
   "execution_count": 114,
   "metadata": {
    "collapsed": false,
    "deletable": true,
    "editable": true
   },
   "outputs": [],
   "source": [
    "def dot(arr1, arr2):\n",
    "    sum = 0.0\n",
    "    for i in range(0, len(arr1)):\n",
    "        sum += arr1[i] * arr2[i]\n",
    "    return sum"
   ]
  },
  {
   "cell_type": "code",
   "execution_count": 115,
   "metadata": {
    "collapsed": false,
    "deletable": true,
    "editable": true
   },
   "outputs": [
    {
     "name": "stdout",
     "output_type": "stream",
     "text": [
      "0.0\n",
      "0.193013215868\n",
      "0.193013215868\n",
      "0.548136911995\n"
     ]
    }
   ],
   "source": [
    "print(dot(weights[0], weights[1]))\n",
    "print(dot(weights[0], weights[0]))\n",
    "print(dot(weights[0], weights[2]))\n",
    "print(dot(weights[1], weights[3]))"
   ]
  },
  {
   "cell_type": "markdown",
   "metadata": {
    "deletable": true,
    "editable": true
   },
   "source": [
    "#### 3.Cosine Similarity를 구해본다."
   ]
  },
  {
   "cell_type": "code",
   "execution_count": 52,
   "metadata": {
    "collapsed": true,
    "deletable": true,
    "editable": true
   },
   "outputs": [],
   "source": [
    "def cosine(arr1,arr2):\n",
    "    return dot(arr1,arr2)/(norm2(arr1)*norm2(arr2))\n"
   ]
  },
  {
   "cell_type": "code",
   "execution_count": 53,
   "metadata": {
    "collapsed": false,
    "deletable": true,
    "editable": true
   },
   "outputs": [
    {
     "name": "stdout",
     "output_type": "stream",
     "text": [
      "0.0\n",
      "1.0\n",
      "0.707106781187\n",
      "0.57735026919\n"
     ]
    }
   ],
   "source": [
    "print(cosine(weights[0], weights[1]))\n",
    "print(cosine(weights[0], weights[0]))\n",
    "print(cosine(weights[0], weights[2]))\n",
    "print(cosine(weights[1], weights[3]))"
   ]
  },
  {
   "cell_type": "markdown",
   "metadata": {
    "deletable": true,
    "editable": true
   },
   "source": [
    "### 라이브러리 Numpy를 이용해 쉽게사용해보자.\n",
    "* numpy에서 axis 는 차원을 말한다.  행렬에선 행이냐 열이냐를 묻는다랑 동일하다\n",
    "* 참고 doc => https://docs.scipy.org/doc/numpy-1.13.0/reference/generated/numpy.linalg.norm.html"
   ]
  },
  {
   "cell_type": "code",
   "execution_count": 54,
   "metadata": {
    "collapsed": true,
    "deletable": true,
    "editable": true
   },
   "outputs": [],
   "source": [
    "from numpy import linalg as LA\n",
    "import numpy as np"
   ]
  },
  {
   "cell_type": "markdown",
   "metadata": {
    "deletable": true,
    "editable": true
   },
   "source": [
    "#### norm을 구해준다."
   ]
  },
  {
   "cell_type": "code",
   "execution_count": 99,
   "metadata": {
    "collapsed": false,
    "deletable": true,
    "editable": true
   },
   "outputs": [],
   "source": [
    "norms = LA.norm(weights,ord=2,axis=1) "
   ]
  },
  {
   "cell_type": "markdown",
   "metadata": {
    "deletable": true,
    "editable": true
   },
   "source": [
    "#### 내적한다. inner product\n",
    "* 같은값은 역을 multiplelicative해주면 inner product이다. ( 용어가 확실한지모르겠음 두 백터 곱해주는 함수임)"
   ]
  },
  {
   "cell_type": "code",
   "execution_count": 68,
   "metadata": {
    "collapsed": false,
    "deletable": true,
    "editable": true,
    "scrolled": false
   },
   "outputs": [
    {
     "data": {
      "text/plain": [
       "array([[ 0.19,  0.  ,  0.19,  0.  ,  0.  ,  0.  ,  0.19,  0.  ,  0.  ,  0.  ,  0.19],\n",
       "       [ 0.  ,  1.64,  0.  ,  0.55,  0.  ,  0.  ,  0.  ,  0.  ,  0.55,  0.55,  0.  ],\n",
       "       [ 0.19,  0.  ,  0.39,  0.  ,  0.  ,  0.19,  0.19,  0.19,  0.  ,  0.  ,  0.39],\n",
       "       [ 0.  ,  0.55,  0.  ,  0.55,  0.  ,  0.  ,  0.  ,  0.  ,  0.  ,  0.  ,  0.  ],\n",
       "       [ 0.  ,  0.  ,  0.  ,  0.  ,  0.12,  0.12,  0.  ,  0.12,  0.  ,  0.12,  0.12],\n",
       "       [ 0.  ,  0.  ,  0.19,  0.  ,  0.12,  0.31,  0.  ,  0.31,  0.  ,  0.12,  0.31],\n",
       "       [ 0.19,  0.  ,  0.19,  0.  ,  0.  ,  0.  ,  0.19,  0.  ,  0.  ,  0.  ,  0.19],\n",
       "       [ 0.  ,  0.  ,  0.19,  0.  ,  0.12,  0.31,  0.  ,  0.31,  0.  ,  0.12,  0.31],\n",
       "       [ 0.  ,  0.55,  0.  ,  0.  ,  0.  ,  0.  ,  0.  ,  0.  ,  2.72,  0.  ,  0.  ],\n",
       "       [ 0.  ,  0.55,  0.  ,  0.  ,  0.12,  0.12,  0.  ,  0.12,  0.  ,  0.67,  0.12],\n",
       "       [ 0.19,  0.  ,  0.39,  0.  ,  0.12,  0.31,  0.19,  0.31,  0.  ,  0.12,  0.5 ]])"
      ]
     },
     "execution_count": 68,
     "metadata": {},
     "output_type": "execute_result"
    }
   ],
   "source": [
    "dots = np.matmul(weights, weights.T)\n",
    "dots"
   ]
  },
  {
   "cell_type": "markdown",
   "metadata": {
    "deletable": true,
    "editable": true
   },
   "source": [
    "#### cosine similarity를 구해준다.\n",
    "* 바로 아래있는건 잘못된것임. 한칸더 아래있는게 맞는거임 왜 다른 값이 나오는지 모르겠음...\n",
    "* 근데.T를 왜붙이는지 모르겠음 => 아마도 식맞춰주기위에 큰 부분에 T를 붙이는거같은데 정확한이유 모르겠음."
   ]
  },
  {
   "cell_type": "code",
   "execution_count": 96,
   "metadata": {
    "collapsed": false,
    "deletable": true,
    "editable": true,
    "scrolled": true
   },
   "outputs": [
    {
     "data": {
      "text/plain": [
       "array([[ 0.19,  0.  ,  0.19,  0.  ,  0.  ,  0.  ,  0.19,  0.  ,  0.  ,  0.  ,  0.19],\n",
       "       [ 0.  ,  1.64,  0.  ,  0.55,  0.  ,  0.  ,  0.  ,  0.  ,  0.55,  0.55,  0.  ],\n",
       "       [ 0.19,  0.  ,  0.39,  0.  ,  0.  ,  0.19,  0.19,  0.19,  0.  ,  0.  ,  0.39],\n",
       "       [ 0.  ,  0.55,  0.  ,  0.55,  0.  ,  0.  ,  0.  ,  0.  ,  0.  ,  0.  ,  0.  ],\n",
       "       [ 0.  ,  0.  ,  0.  ,  0.  ,  0.12,  0.12,  0.  ,  0.12,  0.  ,  0.12,  0.12],\n",
       "       [ 0.  ,  0.  ,  0.19,  0.  ,  0.12,  0.31,  0.  ,  0.31,  0.  ,  0.12,  0.31],\n",
       "       [ 0.19,  0.  ,  0.19,  0.  ,  0.  ,  0.  ,  0.19,  0.  ,  0.  ,  0.  ,  0.19],\n",
       "       [ 0.  ,  0.  ,  0.19,  0.  ,  0.12,  0.31,  0.  ,  0.31,  0.  ,  0.12,  0.31],\n",
       "       [ 0.  ,  0.55,  0.  ,  0.  ,  0.  ,  0.  ,  0.  ,  0.  ,  2.72,  0.  ,  0.  ],\n",
       "       [ 0.  ,  0.55,  0.  ,  0.  ,  0.12,  0.12,  0.  ,  0.12,  0.  ,  0.67,  0.12],\n",
       "       [ 0.19,  0.  ,  0.39,  0.  ,  0.12,  0.31,  0.19,  0.31,  0.  ,  0.12,  0.5 ]])"
      ]
     },
     "execution_count": 96,
     "metadata": {},
     "output_type": "execute_result"
    }
   ],
   "source": [
    "np.divide(dots,norms)*norms"
   ]
  },
  {
   "cell_type": "code",
   "execution_count": 87,
   "metadata": {
    "collapsed": false,
    "deletable": true,
    "editable": true,
    "scrolled": true
   },
   "outputs": [
    {
     "data": {
      "text/plain": [
       "array([[ 1.  ,  0.  ,  0.71,  0.  ,  0.  ,  0.  ,  1.  ,  0.  ,  0.  ,  0.  ,  0.62],\n",
       "       [ 0.  ,  1.  ,  0.  ,  0.58,  0.  ,  0.  ,  0.  ,  0.  ,  0.26,  0.52,  0.  ],\n",
       "       [ 0.71,  0.  ,  1.  ,  0.  ,  0.  ,  0.56,  0.71,  0.56,  0.  ,  0.  ,  0.88],\n",
       "       [ 0.  ,  0.58,  0.  ,  1.  ,  0.  ,  0.  ,  0.  ,  0.  ,  0.  ,  0.  ,  0.  ],\n",
       "       [ 0.  ,  0.  ,  0.  ,  0.  ,  1.  ,  0.61,  0.  ,  0.61,  0.  ,  0.42,  0.48],\n",
       "       [ 0.  ,  0.  ,  0.56,  0.  ,  0.61,  1.  ,  0.  ,  1.  ,  0.  ,  0.26,  0.79],\n",
       "       [ 1.  ,  0.  ,  0.71,  0.  ,  0.  ,  0.  ,  1.  ,  0.  ,  0.  ,  0.  ,  0.62],\n",
       "       [ 0.  ,  0.  ,  0.56,  0.  ,  0.61,  1.  ,  0.  ,  1.  ,  0.  ,  0.26,  0.79],\n",
       "       [ 0.  ,  0.26,  0.  ,  0.  ,  0.  ,  0.  ,  0.  ,  0.  ,  1.  ,  0.  ,  0.  ],\n",
       "       [ 0.  ,  0.52,  0.  ,  0.  ,  0.42,  0.26,  0.  ,  0.26,  0.  ,  1.  ,  0.2 ],\n",
       "       [ 0.62,  0.  ,  0.88,  0.  ,  0.48,  0.79,  0.62,  0.79,  0.  ,  0.2 ,  1.  ]])"
      ]
     },
     "execution_count": 87,
     "metadata": {},
     "output_type": "execute_result"
    }
   ],
   "source": [
    "sims = np.divide(np.divide(dots, norms).T, norms)\n",
    "sims"
   ]
  },
  {
   "cell_type": "markdown",
   "metadata": {
    "deletable": true,
    "editable": true
   },
   "source": [
    "### 예제파일로 만들어준다."
   ]
  },
  {
   "cell_type": "code",
   "execution_count": 76,
   "metadata": {
    "collapsed": false,
    "deletable": true,
    "editable": true
   },
   "outputs": [
    {
     "name": "stdout",
     "output_type": "stream",
     "text": [
      "Writing example/ex_CosineSimilarity.py\n"
     ]
    }
   ],
   "source": [
    "%%writefile example/ex_CosineSimilarity.py\n",
    "\n",
    "from numpy import linalg as LA\n",
    "import numpy as np\n",
    "norms = LA.norm(weights,ord=2,axis=1) \n",
    "dots = np.matmul(weights, weights.T)\n",
    "sims = np.divide(np.divide(dots, norms).T, norms)\n",
    "return sims"
   ]
  },
  {
   "cell_type": "code",
   "execution_count": null,
   "metadata": {
    "collapsed": true,
    "deletable": true,
    "editable": true
   },
   "outputs": [],
   "source": []
  }
 ],
 "metadata": {
  "kernelspec": {
   "display_name": "Python 3",
   "language": "python",
   "name": "python3"
  },
  "language_info": {
   "codemirror_mode": {
    "name": "ipython",
    "version": 3
   },
   "file_extension": ".py",
   "mimetype": "text/x-python",
   "name": "python",
   "nbconvert_exporter": "python",
   "pygments_lexer": "ipython3",
   "version": "3.4.4"
  }
 },
 "nbformat": 4,
 "nbformat_minor": 2
}
