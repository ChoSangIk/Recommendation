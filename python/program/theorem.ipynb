{
 "cells": [
  {
   "cell_type": "markdown",
   "metadata": {
    "deletable": true,
    "editable": true
   },
   "source": [
    "# 0.기본 셋팅"
   ]
  },
  {
   "cell_type": "code",
   "execution_count": 1,
   "metadata": {
    "collapsed": true,
    "deletable": true,
    "editable": true
   },
   "outputs": [],
   "source": [
    "\n",
    "import math\n",
    "import numpy as np\n",
    "from numpy import linalg as LA\n",
    "from scipy.sparse import coo_matrix\n",
    "import pandas as pd\n",
    "from IPython.display import HTML, display"
   ]
  },
  {
   "cell_type": "code",
   "execution_count": 2,
   "metadata": {
    "collapsed": true,
    "deletable": true,
    "editable": true
   },
   "outputs": [],
   "source": [
    "np.set_printoptions(precision=5)\n",
    "pd.set_option('display.precision', 5)"
   ]
  },
  {
   "cell_type": "code",
   "execution_count": 3,
   "metadata": {
    "collapsed": false,
    "deletable": true,
    "editable": true
   },
   "outputs": [],
   "source": [
    "\n",
    "movies = pd.read_csv('../src/movies_w_imgurl.csv')"
   ]
  },
  {
   "cell_type": "code",
   "execution_count": 4,
   "metadata": {
    "collapsed": true,
    "deletable": true,
    "editable": true
   },
   "outputs": [],
   "source": [
    "ratings = pd.read_csv('../src/ratings-9_1.csv')\n",
    "train = ratings[ratings['type'] == 'train'][['userId', 'movieId', 'rating']]\n",
    "test = ratings[ratings['type'] == 'test'][['userId', 'movieId', 'rating']]"
   ]
  },
  {
   "cell_type": "code",
   "execution_count": 5,
   "metadata": {
    "collapsed": true,
    "deletable": true,
    "editable": true
   },
   "outputs": [],
   "source": [
    "movieGenres = pd.DataFrame(\n",
    "    data=movies['genres']  \n",
    "    .str\n",
    "    .split('|')   \n",
    "    .apply(pd.Series)\n",
    "    .stack() # 정리하기 편하게 stack으로 쌓아준다.\n",
    "    ,columns=['genre'])\n",
    "movieGenres.index = movieGenres.index.droplevel(1)"
   ]
  },
  {
   "cell_type": "code",
   "execution_count": 6,
   "metadata": {
    "collapsed": true,
    "deletable": true,
    "editable": true
   },
   "outputs": [],
   "source": [
    "genres = pd.DataFrame(data = movieGenres.groupby('genre')['genre'].count())\n",
    "genres.columns= ['movieCount']\n",
    "totalItems = movies.shape[0]\n",
    "genres['idf'] = genres['movieCount'].apply(lambda x: math.log10(totalItems/x))"
   ]
  },
  {
   "cell_type": "code",
   "execution_count": 7,
   "metadata": {
    "collapsed": true,
    "deletable": true,
    "editable": true
   },
   "outputs": [],
   "source": [
    "movieGenreWeights = movieGenres.join(genres['idf'], on='genre')\n",
    "movieWeights = movies[['movieId']]"
   ]
  },
  {
   "cell_type": "code",
   "execution_count": 8,
   "metadata": {
    "collapsed": true,
    "deletable": true,
    "editable": true
   },
   "outputs": [],
   "source": [
    "\n",
    "for genre in genres.index:\n",
    "    movieWeights = movieWeights\\\n",
    "    .join(movieGenreWeights[movieGenreWeights['genre'] == genre]\n",
    "    [['idf']].rename(columns={'idf':genre})) \n",
    "    movieWeights.fillna(0, inplace=True)\n"
   ]
  },
  {
   "cell_type": "markdown",
   "metadata": {
    "deletable": true,
    "editable": true
   },
   "source": [
    "* 아래는 sims를 구하는 함수이다."
   ]
  },
  {
   "cell_type": "markdown",
   "metadata": {
    "deletable": true,
    "editable": true
   },
   "source": [
    "# 1.평점기준.\n",
    "\n",
    "* 유저별로 평점기준이 다를수있기에. 각 유저의 평점점수폭을 맞춰준다.\n"
   ]
  },
  {
   "cell_type": "markdown",
   "metadata": {},
   "source": [
    "# 2.평과 방법\n",
    "* 그룹내의 유저의 합으로 추천된 결과가,  각각의 유저별로 추천된 영화등수 의 등수를 평규낸다.\n",
    "* play(userlist,train,testsims)\n",
    "* userlist 는 유저집단이다.\n",
    "* train은 과거기록이다.\n",
    "* testsims는 사용될 유사도이다.ex) movie_sims\n"
   ]
  },
  {
   "cell_type": "code",
   "execution_count": 27,
   "metadata": {
    "collapsed": true
   },
   "outputs": [],
   "source": [
    "\n",
    "def users(userId,train,testsims):\n",
    "\n",
    "    userRatings = train[train['userId'] == userId][['movieId', 'rating']]\n",
    "\n",
    "    recSimSums = testsims.loc[userRatings['movieId'].values, :].sum().values\n",
    "    recWeightedRatingSums = np.matmul(testsims.loc[userRatings['movieId'].values, :].T.values, userRatings['rating'].values)\n",
    "    recItemRatings = pd.DataFrame(data=np.divide(recWeightedRatingSums, recSimSums), index=testsims.index)\n",
    "    recItemRatings.columns = ['prediction']   \n",
    "    \n",
    "    \n",
    "    predictionAvg = recItemRatings['prediction'].sum()/len(recItemRatings['prediction'])\n",
    "    recItemRatings['prediction']=recItemRatings/predictionAvg\n",
    "    \n",
    "    count=0\n",
    "    _list=[]\n",
    "    for i in recItemRatings['prediction'].notnull():\n",
    "        \n",
    "        index=recItemRatings.index[count]\n",
    "        if i==False:\n",
    "            recItemRatings['prediction'][index]=0\n",
    "        count+=1\n",
    "\n",
    "    return recItemRatings*2.5\n",
    "\n"
   ]
  },
  {
   "cell_type": "code",
   "execution_count": 28,
   "metadata": {
    "collapsed": true
   },
   "outputs": [],
   "source": [
    "def multiRec(user_number_list,train,testsims):\n",
    "    multi=0\n",
    "    for i in user_number_list:\n",
    "        multi += users(i,train,testsims)\n",
    "    multi/=len(user_number_list)\n",
    "    multi=multi.sort_values(by='prediction', ascending=False)\n",
    "    return multi\n"
   ]
  },
  {
   "cell_type": "code",
   "execution_count": 29,
   "metadata": {
    "collapsed": true
   },
   "outputs": [],
   "source": [
    "def check(user_number_list,num,train,testsims):\n",
    "    _list=[]\n",
    "    for j in user_number_list:\n",
    "         _list.append(want_test(j,num,train,testsims))# User 99 => 400등,  13=> 30등,  14= 1500등\n",
    "    res=float(sum(_list))/len(_list)\n",
    "    return res"
   ]
  },
  {
   "cell_type": "code",
   "execution_count": 30,
   "metadata": {
    "collapsed": true
   },
   "outputs": [],
   "source": [
    "def play(user_number_list,train,testsims):\n",
    "    for i in multiRec(user_number_list,train,testsims).index[0:5]:\n",
    "        print \"영화 \" ,i\n",
    "        a=check(user_number_list,i,train,testsims)\n",
    "        print a,\"= 평균등수.\""
   ]
  },
  {
   "cell_type": "markdown",
   "metadata": {},
   "source": [
    "# 3. 방법은 총 3가지\n",
    "* 방법1 유저 평점평균 기반\n",
    "* 방법2 유저 취향 합 기반\n",
    "* 방법3 유저 유사도 기반"
   ]
  },
  {
   "cell_type": "markdown",
   "metadata": {
    "deletable": true,
    "editable": true
   },
   "source": [
    "# 방법1. 유저 평점평균 기반 추천방법\n",
    "\n",
    "* 원리\n",
    "* 입력받은 유저리스트의 유저들 각각의 영화별 예측 평점을 구한뒤. 전체 유저들을 합친 영화별 평점 평균을 구한다.\n",
    "* 모든 유저가 무난하게 좋아할만한 영화들을 고를수있다. 가장 무난한방법.\n",
    "\n",
    "\n",
    "* 단점\n",
    "* 모두가 좋아하는 것을 맞추기는 어렵다."
   ]
  },
  {
   "cell_type": "code",
   "execution_count": 31,
   "metadata": {
    "collapsed": true,
    "deletable": true,
    "editable": true
   },
   "outputs": [],
   "source": [
    "movieNorms = pd.DataFrame(\n",
    "    data=LA.norm(movieWeights\n",
    "                 .iloc[:,1:] \n",
    "                 .values, \n",
    "                ord=2, axis=1),\n",
    "\n",
    "    columns=['norm2'])    "
   ]
  },
  {
   "cell_type": "code",
   "execution_count": 32,
   "metadata": {
    "collapsed": true,
    "deletable": true,
    "editable": true
   },
   "outputs": [],
   "source": [
    "normalizedMovieWeights = pd.DataFrame(index=movieWeights.index) #빈 데이타 프레임만들기\n",
    "norms = movieNorms['norm2']\n",
    "for genre in genres.index:\n",
    "    normalizedMovieWeights[genre] = movieWeights[genre].divide(norms)\n",
    "    \n",
    "movie_sims = pd.DataFrame(data=np.matmul(normalizedMovieWeights, normalizedMovieWeights.T), index=movieWeights['movieId'])\n",
    "movie_sims.columns = index=movieWeights['movieId']"
   ]
  },
  {
   "cell_type": "markdown",
   "metadata": {
    "deletable": true,
    "editable": true
   },
   "source": [
    "# 방식 2. 유저 취향합 기반 추천방법\n",
    "\n",
    "* A,B,C,D를 한 그룹으로 생각후 Alist+Blist+Clist+Dlist를 가지고  영화추천받기.\n",
    "* 즉, 유저A,B,C,D가 합쳐진 새로운 유저 X를 만든다.\n",
    "\n",
    "* 원리\n",
    "* 입력받은 유저리스트의 유저들 각각의 영화 기록을 전부모아서. 영화를 추천받는다.\n",
    "\n",
    "* 단점\n",
    "* 유저마다 영화 기록이 다르고 그로인한 선로 장르가 다르지만. 이를 전부 합쳐서 영화를 추천받기에.\n",
    "* 전혀 보지않았던 장르가 추천될 경우가 존재."
   ]
  },
  {
   "cell_type": "code",
   "execution_count": 33,
   "metadata": {
    "collapsed": true,
    "deletable": true,
    "editable": true
   },
   "outputs": [],
   "source": [
    "user_number_list=[11,12,13,14]"
   ]
  },
  {
   "cell_type": "code",
   "execution_count": 34,
   "metadata": {
    "collapsed": false,
    "deletable": true,
    "editable": true
   },
   "outputs": [],
   "source": [
    "count=0\n",
    "_list=[]\n",
    "for i in train['userId']:\n",
    "    index=train.index[count]\n",
    "    if i in user_number_list:\n",
    "        _list.append([\"userX\",train['movieId'][index] , train['rating'][index]])\n",
    "    count+=1\n",
    "    \n",
    "df=pd.DataFrame(_list,columns=['userId','movieId','rating'])"
   ]
  },
  {
   "cell_type": "code",
   "execution_count": 35,
   "metadata": {
    "collapsed": false,
    "deletable": true,
    "editable": true
   },
   "outputs": [],
   "source": [
    "train2=train.append(df)"
   ]
  },
  {
   "cell_type": "code",
   "execution_count": 36,
   "metadata": {
    "collapsed": false,
    "deletable": true,
    "editable": true,
    "scrolled": true
   },
   "outputs": [
    {
     "name": "stderr",
     "output_type": "stream",
     "text": [
      "/Users/ikku_study/anaconda/envs/py27/lib/python2.7/site-packages/ipykernel/__main__.py:8: RuntimeWarning: invalid value encountered in divide\n"
     ]
    },
    {
     "name": "stdout",
     "output_type": "stream",
     "text": [
      "유저 11 의 영화 3339 의 평점은 = 2.81994100433\n",
      "전체 9125 중에 333 등\n",
      "유저 12 의 영화 3339 의 평점은 = 0.0\n",
      "전체 9125 중에 9125 등\n",
      "유저 13 의 영화 3339 의 평점은 = 3.07439049877\n",
      "전체 9125 중에 25 등\n",
      "유저 14 의 영화 3339 의 평점은 = 0.0\n",
      "전체 9125 중에 9125 등\n"
     ]
    },
    {
     "data": {
      "text/plain": [
       "4652.0"
      ]
     },
     "execution_count": 36,
     "metadata": {},
     "output_type": "execute_result"
    }
   ],
   "source": [
    "\n",
    "multiRec([\"userX\"],train2,movie_sims)\n",
    "check(user_number_list,3339,train2,movie_sims)"
   ]
  },
  {
   "cell_type": "code",
   "execution_count": null,
   "metadata": {
    "collapsed": true,
    "deletable": true,
    "editable": true
   },
   "outputs": [],
   "source": []
  },
  {
   "cell_type": "markdown",
   "metadata": {
    "deletable": true,
    "editable": true
   },
   "source": [
    "# 방법3. 유저 유사도 기반 추천방법\n"
   ]
  },
  {
   "cell_type": "markdown",
   "metadata": {
    "deletable": true,
    "editable": true
   },
   "source": [
    "* 원리\n",
    "* 입력받은 유저리스트의 유저들을 유사도를 맞춰 그룹을 짓는다.\n",
    "* 이후 그룹별로 선호 영화를 뽑는다.\n",
    "\n",
    "* 단점\n",
    "* A그룹이 좋아하는 영화가 B는 싫어하는 영화가 될수있고 C는 보통인 영화가 될수있다."
   ]
  },
  {
   "cell_type": "code",
   "execution_count": 16,
   "metadata": {
    "collapsed": false,
    "deletable": true,
    "editable": true
   },
   "outputs": [],
   "source": [
    "count=0\n",
    "idxcheck=0\n",
    "taste=pd.DataFrame()\n",
    "genres_df=pd.DataFrame()\n",
    "moviedict={}\n",
    "\n",
    "for idx,value in movieWeights['movieId'].iteritems():\n",
    "    moviedict[value]=idx # value가  movieId이고 idx는 index\n",
    "\n",
    "for userId in range(1,int(train.ix[train.index[-1]][\"userId\"])):\n",
    "    \n",
    "    for i in train.index[idxcheck:]:\n",
    "       \n",
    "        movieId=train['movieId'][i]\n",
    "        #print i,userId,movieId\n",
    "        if train['userId'][i] ==userId:\n",
    "    \n",
    "            _list=train['rating'][i]*movieWeights.ix[moviedict[movieId]]\n",
    "            genres_df.insert(0,'d',_list,1)\n",
    "            # 위 insert방식은 dataframe 이 한번 만들어지고 그 dataframe을 밑에 taste에 더하게되서 시간소비가 걸림.\n",
    "            # 이거대신 바로 평균을내고 그 평균으로 taste를 만들면 편할것.\n",
    "            \n",
    "        else:\n",
    "            #print \"error\"\n",
    "            #print genres_df\n",
    "            genres_df=genres_df.drop('movieId')\n",
    "            genres_df=genres_df.mean(axis=1)\n",
    "            taste.insert(userId-1,userId,genres_df.T,1)\n",
    "            #print taste\n",
    "            genres_df=pd.DataFrame()\n",
    "            \n",
    "            break\n",
    "        idxcheck+=1\n",
    "        #if count==20:\n",
    "        #    break\n",
    "        count+=1\n",
    "taste=taste.T"
   ]
  },
  {
   "cell_type": "markdown",
   "metadata": {
    "deletable": true,
    "editable": true
   },
   "source": [
    "* 아래는 유저별 유사도를 구하는 Cosine similarity이다."
   ]
  },
  {
   "cell_type": "code",
   "execution_count": 17,
   "metadata": {
    "collapsed": false,
    "deletable": true,
    "editable": true,
    "scrolled": true
   },
   "outputs": [],
   "source": [
    "tasteNorms = pd.DataFrame(\n",
    "    data=LA.norm(taste\n",
    "                 .iloc[:,:] \n",
    "                 .values, \n",
    "                ord=2, axis=1),\n",
    "    \n",
    "    columns=['norm2'],index=taste.index)\n",
    "#tasteNorms\n",
    "normalizedTasteWeights = pd.DataFrame(index=taste.index) #빈 데이타 프레임만들기\n",
    "norms = tasteNorms['norm2']\n",
    "\n",
    "for genre in genres.index:\n",
    "    normalizedTasteWeights[genre] = taste[genre].divide(norms)\n",
    "    \n",
    "user_sims = pd.DataFrame(data=np.matmul(normalizedTasteWeights, normalizedTasteWeights.T))"
   ]
  },
  {
   "cell_type": "markdown",
   "metadata": {
    "deletable": true,
    "editable": true
   },
   "source": [
    "* 아래는 유저별 유사도 그룹이다.\n",
    "* 기준(standard)을 잡고 해당 기준과 평균 이상의 유사도를 가질경우 그룹으로 묶인다."
   ]
  },
  {
   "cell_type": "code",
   "execution_count": 18,
   "metadata": {
    "collapsed": true,
    "deletable": true,
    "editable": true
   },
   "outputs": [],
   "source": [
    "def p3(userlist):\n",
    "\n",
    "    meanWeight=[]\n",
    "    _sum=0\n",
    "    for i in range(0,len(userlist)):\n",
    "        for j in range(0,len(userlist)):     \n",
    "            _sum+=user_sims[userlist[i]][userlist[j]]\n",
    "        mean=float(_sum)/len(userlist)\n",
    "        meanWeight.append([mean,userlist[i]])\n",
    "        _sum=0\n",
    "    meanWeight.sort()\n",
    "\n",
    "\n",
    "    remain=userlist\n",
    "    a=True\n",
    "    combine=[]\n",
    "    lenlist=len(meanWeight)\n",
    "    while(a==True):\n",
    "        for j in range(-1,-lenlist,-1):\n",
    "            if meanWeight[j][1] in remain:\n",
    "                standard= meanWeight[j]\n",
    "                print standard,\"standard\"\n",
    "                break\n",
    "                \n",
    "        __list=[]\n",
    "        _remain=[]\n",
    "        for i in remain:\n",
    "            if user_sims[standard[1]][i] >= standard[0]-0.005:\n",
    "                __list.append(i)\n",
    "            else:\n",
    "                _remain.append(i)\n",
    "        remain=_remain  \n",
    "        if len(__list)==0:\n",
    "            #print \"end\"\n",
    "            a=False\n",
    "            pass\n",
    "        else:\n",
    "            combine.append(__list)\n",
    "            \n",
    "        if len(remain) ==1:\n",
    "            combine.append(remain)\n",
    "            remain=[]\n",
    "            a=False\n",
    "        elif len(remain)==0:\n",
    "            a=False\n",
    "    return combine\n",
    "\n"
   ]
  },
  {
   "cell_type": "code",
   "execution_count": 19,
   "metadata": {
    "collapsed": false,
    "deletable": true,
    "editable": true,
    "scrolled": true
   },
   "outputs": [
    {
     "name": "stdout",
     "output_type": "stream",
     "text": [
      "[0.8647201022006115, 1] standard\n",
      "[0.860045122795858, 5] standard\n",
      "[0.832599722969626, 11] standard\n"
     ]
    },
    {
     "data": {
      "text/plain": [
       "[[1, 2, 4, 7, 8], [3, 5, 6], [9, 11], [10]]"
      ]
     },
     "execution_count": 19,
     "metadata": {},
     "output_type": "execute_result"
    }
   ],
   "source": [
    "p3([1,2,3,4,5,6,7,8,9,10,11])"
   ]
  },
  {
   "cell_type": "markdown",
   "metadata": {
    "deletable": true,
    "editable": true
   },
   "source": [
    "# 유저 정확도 테스트 방법"
   ]
  },
  {
   "cell_type": "code",
   "execution_count": null,
   "metadata": {
    "collapsed": true,
    "deletable": true,
    "editable": true
   },
   "outputs": [],
   "source": []
  }
 ],
 "metadata": {
  "kernelspec": {
   "display_name": "Python 2",
   "language": "python",
   "name": "python2"
  },
  "language_info": {
   "codemirror_mode": {
    "name": "ipython",
    "version": 2
   },
   "file_extension": ".py",
   "mimetype": "text/x-python",
   "name": "python",
   "nbconvert_exporter": "python",
   "pygments_lexer": "ipython2",
   "version": "2.7.13"
  }
 },
 "nbformat": 4,
 "nbformat_minor": 2
}
