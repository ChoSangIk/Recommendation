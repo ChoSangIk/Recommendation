{
 "cells": [
  {
   "cell_type": "code",
   "execution_count": 1,
   "metadata": {
    "collapsed": true
   },
   "outputs": [],
   "source": [
    "import math\n",
    "import numpy as np"
   ]
  },
  {
   "cell_type": "code",
   "execution_count": 2,
   "metadata": {
    "collapsed": true
   },
   "outputs": [],
   "source": [
    "np.set_printoptions(precision=2,linewidth=120)"
   ]
  },
  {
   "cell_type": "markdown",
   "metadata": {},
   "source": [
    "##### 행렬을 만들어준다. (행 =영화 ID, 열= 장르) => (행 =  item ID , 열 = property or character )"
   ]
  },
  {
   "cell_type": "code",
   "execution_count": 3,
   "metadata": {
    "collapsed": true
   },
   "outputs": [],
   "source": [
    "matrix = np.array([\n",
    "    [0, 1, 0, 0, 0, 0, 0, 0],\n",
    "    [1, 0, 1, 0, 0, 0, 0, 1],\n",
    "    [0, 1, 0, 0, 1, 0, 0, 0],\n",
    "    [1, 0, 0, 0, 0, 0, 0, 0],\n",
    "    [0, 0, 0, 1, 0, 0, 0, 0],\n",
    "    [0, 0, 0, 1, 1, 0, 0, 0],\n",
    "    [0, 1, 0, 0, 0, 0, 0, 0],\n",
    "    [0, 0, 0, 1, 1, 0, 0, 0],\n",
    "    [0, 0, 0, 0, 0, 1, 1, 1],\n",
    "    [0, 0, 1, 1, 0, 0, 0, 0],\n",
    "    [0, 1, 0, 1, 1, 0, 0, 0]\n",
    "])"
   ]
  },
  {
   "cell_type": "markdown",
   "metadata": {},
   "source": [
    "# TF-IDF 가중치를 구해준다."
   ]
  },
  {
   "cell_type": "code",
   "execution_count": 10,
   "metadata": {
    "collapsed": false
   },
   "outputs": [],
   "source": [
    "totalItems = matrix.shape[0]\n",
    "totalGenres = matrix.shape[1]\n",
    "\n",
    "matrix_weights = np.zeros(matrix.shape)\n",
    "\n",
    "for i in range(0, totalGenres):\n",
    "    col = matrix[:,i]\n",
    "    idf = math.log10(totalItems/col.sum())\n",
    "    for j in range(0, totalItems):\n",
    "        matrix_weights[j, i] = matrix[j, i] * idf"
   ]
  },
  {
   "cell_type": "code",
   "execution_count": 7,
   "metadata": {
    "collapsed": false,
    "scrolled": true
   },
   "outputs": [
    {
     "data": {
      "text/plain": [
       "array([[ 0.  ,  0.3 ,  0.  ,  0.  ,  0.  ,  0.  ,  0.  ,  0.  ],\n",
       "       [ 0.7 ,  0.  ,  0.7 ,  0.  ,  0.  ,  0.  ,  0.  ,  0.7 ],\n",
       "       [ 0.  ,  0.3 ,  0.  ,  0.  ,  0.3 ,  0.  ,  0.  ,  0.  ],\n",
       "       [ 0.7 ,  0.  ,  0.  ,  0.  ,  0.  ,  0.  ,  0.  ,  0.  ],\n",
       "       [ 0.  ,  0.  ,  0.  ,  0.3 ,  0.  ,  0.  ,  0.  ,  0.  ],\n",
       "       [ 0.  ,  0.  ,  0.  ,  0.3 ,  0.3 ,  0.  ,  0.  ,  0.  ],\n",
       "       [ 0.  ,  0.3 ,  0.  ,  0.  ,  0.  ,  0.  ,  0.  ,  0.  ],\n",
       "       [ 0.  ,  0.  ,  0.  ,  0.3 ,  0.3 ,  0.  ,  0.  ,  0.  ],\n",
       "       [ 0.  ,  0.  ,  0.  ,  0.  ,  0.  ,  1.04,  1.04,  0.7 ],\n",
       "       [ 0.  ,  0.  ,  0.7 ,  0.3 ,  0.  ,  0.  ,  0.  ,  0.  ],\n",
       "       [ 0.  ,  0.3 ,  0.  ,  0.3 ,  0.3 ,  0.  ,  0.  ,  0.  ]])"
      ]
     },
     "execution_count": 7,
     "metadata": {},
     "output_type": "execute_result"
    }
   ],
   "source": [
    "matrix_weights"
   ]
  },
  {
   "cell_type": "code",
   "execution_count": 11,
   "metadata": {
    "collapsed": true
   },
   "outputs": [],
   "source": [
    "totalItems = matrix.shape[0]\n",
    "totalGenres = matrix.shape[1]\n",
    "\n",
    "weights = np.zeros(matrix.shape)\n",
    "\n",
    "for i in range(0, totalGenres):\n",
    "    col = matrix[:,i]\n",
    "    idf = math.log10(totalItems/col.sum())\n",
    "    for j in range(0, totalItems):\n",
    "        weights[j, i] = matrix[j, i] * idf"
   ]
  },
  {
   "cell_type": "code",
   "execution_count": null,
   "metadata": {
    "collapsed": true
   },
   "outputs": [],
   "source": []
  }
 ],
 "metadata": {
  "kernelspec": {
   "display_name": "Python 2",
   "language": "python",
   "name": "python2"
  },
  "language_info": {
   "codemirror_mode": {
    "name": "ipython",
    "version": 2
   },
   "file_extension": ".py",
   "mimetype": "text/x-python",
   "name": "python",
   "nbconvert_exporter": "python",
   "pygments_lexer": "ipython2",
   "version": "2.7.13"
  }
 },
 "nbformat": 4,
 "nbformat_minor": 2
}
