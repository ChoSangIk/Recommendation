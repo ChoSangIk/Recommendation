{
 "cells": [
  {
   "cell_type": "code",
   "execution_count": null,
   "metadata": {
    "collapsed": true
   },
   "outputs": [],
   "source": []
  },
  {
   "cell_type": "markdown",
   "metadata": {
    "deletable": true,
    "editable": true
   },
   "source": [
    "# TF-IDF 가중치를 구하는방법."
   ]
  },
  {
   "cell_type": "code",
   "execution_count": 27,
   "metadata": {
    "collapsed": false,
    "deletable": true,
    "editable": true
   },
   "outputs": [],
   "source": [
    "totalItems = matrix.shape[0]\n",
    "totalGenres = matrix.shape[1]\n",
    "\n",
    "matrix_weights = np.zeros(matrix.shape) # 0인 행렬을 만들어준다.\n",
    "\n",
    "for i in range(0, totalGenres):\n",
    "    col = matrix[:,i]\n",
    "    idf = math.log10(totalItems/col.sum())\n",
    "    #print col,totalItems,col.sum(),idf\n",
    "    for j in range(0, totalItems):\n",
    "        matrix_weights[j, i] = matrix[j, i] * idf"
   ]
  },
  {
   "cell_type": "code",
   "execution_count": 22,
   "metadata": {
    "collapsed": false,
    "deletable": true,
    "editable": true,
    "scrolled": true
   },
   "outputs": [
    {
     "data": {
      "text/plain": [
       "array([[ 0.  ,  0.3 ,  0.  ,  0.  ,  0.  ,  0.  ,  0.  ,  0.  ],\n",
       "       [ 0.7 ,  0.  ,  0.7 ,  0.  ,  0.  ,  0.  ,  0.  ,  0.7 ],\n",
       "       [ 0.  ,  0.3 ,  0.  ,  0.  ,  0.3 ,  0.  ,  0.  ,  0.  ],\n",
       "       [ 0.7 ,  0.  ,  0.  ,  0.  ,  0.  ,  0.  ,  0.  ,  0.  ],\n",
       "       [ 0.  ,  0.  ,  0.  ,  0.3 ,  0.  ,  0.  ,  0.  ,  0.  ],\n",
       "       [ 0.  ,  0.  ,  0.  ,  0.3 ,  0.3 ,  0.  ,  0.  ,  0.  ],\n",
       "       [ 0.  ,  0.3 ,  0.  ,  0.  ,  0.  ,  0.  ,  0.  ,  0.  ],\n",
       "       [ 0.  ,  0.  ,  0.  ,  0.3 ,  0.3 ,  0.  ,  0.  ,  0.  ],\n",
       "       [ 0.  ,  0.  ,  0.  ,  0.  ,  0.  ,  1.04,  1.04,  0.7 ],\n",
       "       [ 0.  ,  0.  ,  0.7 ,  0.3 ,  0.  ,  0.  ,  0.  ,  0.  ],\n",
       "       [ 0.  ,  0.3 ,  0.  ,  0.3 ,  0.3 ,  0.  ,  0.  ,  0.  ]])"
      ]
     },
     "execution_count": 22,
     "metadata": {},
     "output_type": "execute_result"
    }
   ],
   "source": [
    "matrix_weights # 가중치 매트릭스"
   ]
  },
  {
   "cell_type": "markdown",
   "metadata": {},
   "source": [
    "### TFIDF의 제사용을 위해 예제 모듈을 만든다."
   ]
  },
  {
   "cell_type": "code",
   "execution_count": 10,
   "metadata": {
    "collapsed": false,
    "deletable": true,
    "editable": true
   },
   "outputs": [
    {
     "name": "stdout",
     "output_type": "stream",
     "text": [
      "Overwriting example/ex_TFIDF.py\n"
     ]
    }
   ],
   "source": [
    "%%writefile example/ex_TFIDF.py\n",
    "import math\n",
    "import numpy as np\n",
    "\n",
    "np.set_printoptions(precision=2,linewidth=120)\n",
    "\n",
    "def weight(matrix):\n",
    "        target_matrix = matrix\n",
    "        totalItems = matrix.shape[0]\n",
    "        totalGenres = matrix.shape[1]\n",
    "        \n",
    "        matrix_weights = np.zeros(matrix.shape) \n",
    "    \n",
    "        for i in range(0, totalGenres):\n",
    "            col = matrix[:,i]\n",
    "            idf = math.log10(totalItems/col.sum())\n",
    "            \n",
    "            for j in range(0, totalItems):\n",
    "                matrix_weights[j, i] = matrix[j, i] * idf\n",
    "        return matrix_weights\n"
   ]
  },
  {
   "cell_type": "code",
   "execution_count": null,
   "metadata": {
    "collapsed": true,
    "deletable": true,
    "editable": true
   },
   "outputs": [],
   "source": []
  }
 ],
 "metadata": {
  "kernelspec": {
   "display_name": "Python 2",
   "language": "python",
   "name": "python2"
  },
  "language_info": {
   "codemirror_mode": {
    "name": "ipython",
    "version": 2
   },
   "file_extension": ".py",
   "mimetype": "text/x-python",
   "name": "python",
   "nbconvert_exporter": "python",
   "pygments_lexer": "ipython2",
   "version": "2.7.13"
  }
 },
 "nbformat": 4,
 "nbformat_minor": 2
}
